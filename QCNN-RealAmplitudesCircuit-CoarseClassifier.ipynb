{
 "cells": [
  {
   "cell_type": "code",
   "execution_count": 2,
   "metadata": {},
   "outputs": [
    {
     "name": "stderr",
     "output_type": "stream",
     "text": [
      "/home/comp/anaconda3/lib/python3.7/site-packages/qiskit/providers/ibmq/ibmqfactory.py:192: UserWarning: Timestamps in IBMQ backend properties, jobs, and job results are all now in local time instead of UTC.\n",
      "  warnings.warn('Timestamps in IBMQ backend properties, jobs, and job results '\n"
     ]
    },
    {
     "name": "stdout",
     "output_type": "stream",
     "text": [
      "<AccountProvider for IBMQ(hub='ibm-q', group='open', project='main')> ibmq_qasm_simulator\n"
     ]
    }
   ],
   "source": [
    "import qiskit\n",
    "token = ''\n",
    "qiskit.IBMQ.save_account(token)\n",
    "account = qiskit.IBMQ.load_account()\n",
    "provider = qiskit.IBMQ.get_provider(hub='ibm-q')\n",
    "backend = provider.get_backend('ibmq_qasm_simulator')\n",
    "print(provider, backend)"
   ]
  },
  {
   "cell_type": "code",
   "execution_count": 3,
   "metadata": {
    "colab": {
     "base_uri": "https://localhost:8080/"
    },
    "executionInfo": {
     "elapsed": 10342,
     "status": "ok",
     "timestamp": 1631199885412,
     "user": {
      "displayName": "Alessandro Sebastianelli",
      "photoUrl": "https://lh3.googleusercontent.com/a-/AOh14GgVWBLvEG9yF5gq_rkIyj5MCLQv1OzgwlLWxu7e=s64",
      "userId": "16665723407518839496"
     },
     "user_tz": -120
    },
    "id": "mXsPVL2Qyt4G",
    "outputId": "918be6f2-7625-46ff-9eae-c0bf2daa0112"
   },
   "outputs": [
    {
     "name": "stdout",
     "output_type": "stream",
     "text": [
      "Running on the CPU\n"
     ]
    }
   ],
   "source": [
    "from qiskit import execute\n",
    "from qiskit.circuit import Parameter,ControlledGate\n",
    "from qiskit import Aer\n",
    "import qiskit\n",
    "import numpy as np\n",
    "from tqdm import tqdm\n",
    "from matplotlib import pyplot as plt\n",
    "%matplotlib inline\n",
    "import torch\n",
    "from torch.autograd import Function\n",
    "import torch.optim as optim\n",
    "import torch.nn as nn\n",
    "import torch.nn.functional as F\n",
    "\n",
    "\n",
    "if torch.cuda.is_available():\n",
    "  device = torch.device(\"cuda:0\")\n",
    "  print(\"Running on the GPU\")\n",
    "else:\n",
    "  device = torch.device(\"cpu\")\n",
    "  print(\"Running on the CPU\")"
   ]
  },
  {
   "cell_type": "code",
   "execution_count": 5,
   "metadata": {
    "executionInfo": {
     "elapsed": 12,
     "status": "ok",
     "timestamp": 1631199885413,
     "user": {
      "displayName": "Alessandro Sebastianelli",
      "photoUrl": "https://lh3.googleusercontent.com/a-/AOh14GgVWBLvEG9yF5gq_rkIyj5MCLQv1OzgwlLWxu7e=s64",
      "userId": "16665723407518839496"
     },
     "user_tz": -120
    },
    "id": "GLM7EOjvzYNa"
   },
   "outputs": [],
   "source": [
    "#np.random.seed = 314\n",
    "\n",
    "NUM_QUBITS = 4\n",
    "NUM_SHOTS = 800 #3000\n",
    "SHIFT = np.pi/4\n",
    "LEARNING_RATE = 0.0002\n",
    "MOMENTUM = 0.5\n",
    "\n",
    "SIMULATOR = Aer.get_backend('qasm_simulator')"
   ]
  },
  {
   "cell_type": "code",
   "execution_count": 6,
   "metadata": {
    "colab": {
     "base_uri": "https://localhost:8080/"
    },
    "executionInfo": {
     "elapsed": 11,
     "status": "ok",
     "timestamp": 1631199885414,
     "user": {
      "displayName": "Alessandro Sebastianelli",
      "photoUrl": "https://lh3.googleusercontent.com/a-/AOh14GgVWBLvEG9yF5gq_rkIyj5MCLQv1OzgwlLWxu7e=s64",
      "userId": "16665723407518839496"
     },
     "user_tz": -120
    },
    "id": "EjFSm0lgzbW2",
    "outputId": "776680af-de45-42cc-ea57-5a86fa177b96"
   },
   "outputs": [
    {
     "name": "stdout",
     "output_type": "stream",
     "text": [
      "['0000', '0001', '0010', '0011', '0100', '0101', '0110', '0111', '1000', '1001', '1010', '1011', '1100', '1101', '1110', '1111']\n"
     ]
    }
   ],
   "source": [
    "# create list of all possible outputs of quantum circuit (2**NUM_QUBITS possible)\n",
    "import itertools\n",
    "def create_QC_OUTPUTS():\n",
    "    measurements = list(itertools.product([0, 1], repeat=NUM_QUBITS))\n",
    "    return [''.join([str(bit) for bit in measurement]) for measurement in measurements]\n",
    "\n",
    "QC_OUTPUTS = create_QC_OUTPUTS()\n",
    "print(QC_OUTPUTS)"
   ]
  },
  {
   "cell_type": "markdown",
   "metadata": {
    "id": "5MjzswxFOf5A"
   },
   "source": [
    "# Circuit"
   ]
  },
  {
   "cell_type": "code",
   "execution_count": 7,
   "metadata": {
    "executionInfo": {
     "elapsed": 8,
     "status": "ok",
     "timestamp": 1631199885820,
     "user": {
      "displayName": "Alessandro Sebastianelli",
      "photoUrl": "https://lh3.googleusercontent.com/a-/AOh14GgVWBLvEG9yF5gq_rkIyj5MCLQv1OzgwlLWxu7e=s64",
      "userId": "16665723407518839496"
     },
     "user_tz": -120
    },
    "id": "MKJrEyNCzdX_"
   },
   "outputs": [],
   "source": [
    "class QiskitCircuit():\n",
    "    \n",
    "    def __init__(self, n_qubits, backend, shots):\n",
    "        # --- Circuit definition ---\n",
    "        self.circuit = qiskit.QuantumCircuit(n_qubits)\n",
    "        self.n_qubits = n_qubits\n",
    "        self.thetas = {k : Parameter('Theta'+str(k))for k in range(2*self.n_qubits)}\n",
    "        \n",
    "        all_qubits = [i for i in range(n_qubits)]\n",
    "        self.circuit.h(all_qubits)\n",
    "        self.circuit.barrier()\n",
    "\n",
    "        #self.circuit.h(0)\n",
    "\n",
    "        for k in range(0, 4):\n",
    "          self.circuit.ry(self.thetas[k], k)\n",
    "\n",
    "        self.circuit.cx(1, 0)\n",
    "        self.circuit.cx(2, 0)\n",
    "        self.circuit.cx(3, 0)\n",
    "        self.circuit.cx(2, 1)\n",
    "        self.circuit.cx(3, 1)\n",
    "        self.circuit.cx(3, 2)\n",
    "\n",
    "        for k in range(0, 4):\n",
    "          self.circuit.ry(self.thetas[k+4], k)\n",
    "\n",
    "        self.circuit.measure_all()\n",
    "        # ---------------------------\n",
    "        \n",
    "        self.backend = backend\n",
    "        self.shots = shots\n",
    "        \n",
    "        \n",
    "    def N_qubit_expectation_Z(self,counts, shots, nr_qubits):\n",
    "        expects = np.zeros(len(QC_OUTPUTS))\n",
    "        for k in range(len(QC_OUTPUTS)):\n",
    "            key = QC_OUTPUTS[k]\n",
    "            perc = counts.get(key, 0)/shots\n",
    "            expects[k] = perc\n",
    "        return expects\n",
    "    \n",
    "    def run(self, i):\n",
    "        params = i\n",
    "        #print('params = {}'.format(len(params)))\n",
    "        backend = Aer.get_backend('qasm_simulator')\n",
    "    \n",
    "        job_sim = execute(self.circuit,\n",
    "                              self.backend,\n",
    "                              shots=self.shots,\n",
    "                              parameter_binds = [{self.thetas[k] : params[k].item() for k in range(2*NUM_QUBITS)}])\n",
    "#         \n",
    "        result_sim = job_sim.result()\n",
    "        counts = result_sim.get_counts(self.circuit)\n",
    "        return self.N_qubit_expectation_Z(counts, self.shots, NUM_QUBITS)"
   ]
  },
  {
   "cell_type": "code",
   "execution_count": 8,
   "metadata": {
    "colab": {
     "base_uri": "https://localhost:8080/",
     "height": 276
    },
    "executionInfo": {
     "elapsed": 890,
     "status": "ok",
     "timestamp": 1631199886705,
     "user": {
      "displayName": "Alessandro Sebastianelli",
      "photoUrl": "https://lh3.googleusercontent.com/a-/AOh14GgVWBLvEG9yF5gq_rkIyj5MCLQv1OzgwlLWxu7e=s64",
      "userId": "16665723407518839496"
     },
     "user_tz": -120
    },
    "id": "Afi3vEahKBVU",
    "outputId": "4cd46916-6eb0-4ac9-a14d-2f4a5911d717"
   },
   "outputs": [
    {
     "data": {
      "image/png": "[encoded data removed]",
      "text/plain": [
       "<Figure size 1019.88x325.08 with 1 Axes>"
      ]
     },
     "execution_count": 8,
     "metadata": {},
     "output_type": "execute_result"
    }
   ],
   "source": [
    "circuit = QiskitCircuit(NUM_QUBITS, SIMULATOR, NUM_SHOTS)\n",
    "#print('Expected value for rotation [pi/4]: {}'.format(circuit.run(torch.Tensor([np.pi/4]*NUM_QUBITS))))\n",
    "circuit.circuit.draw(output='mpl')#, filename='Figures/{}-qubit circuit ryN.jpg'.format(NUM_QUBITS)"
   ]
  },
  {
   "cell_type": "code",
   "execution_count": 9,
   "metadata": {
    "executionInfo": {
     "elapsed": 8,
     "status": "ok",
     "timestamp": 1631199886706,
     "user": {
      "displayName": "Alessandro Sebastianelli",
      "photoUrl": "https://lh3.googleusercontent.com/a-/AOh14GgVWBLvEG9yF5gq_rkIyj5MCLQv1OzgwlLWxu7e=s64",
      "userId": "16665723407518839496"
     },
     "user_tz": -120
    },
    "id": "_zDbKVw5zhWo"
   },
   "outputs": [],
   "source": [
    "class TorchCircuit(Function):    \n",
    "\n",
    "    @staticmethod\n",
    "    def forward(ctx, i):\n",
    "        if not hasattr(ctx, 'QiskitCirc'):\n",
    "            ctx.QiskitCirc = QiskitCircuit(NUM_QUBITS, SIMULATOR, shots=NUM_SHOTS)\n",
    "            \n",
    "        exp_value = ctx.QiskitCirc.run(i)\n",
    "        \n",
    "        result = torch.tensor([exp_value])\n",
    "  \n",
    "        ctx.save_for_backward(result, i)\n",
    "        \n",
    "        return result\n",
    "    \n",
    "    @staticmethod\n",
    "    def backward(ctx, grad_output):\n",
    "        \n",
    "        forward_tensor, i = ctx.saved_tensors\n",
    "#         print('forward_tensor = {}'.format(forward_tensor))\n",
    "        input_numbers = i\n",
    "#         print('input_numbers = {}'.format(input_numbers))\n",
    "        gradients = torch.Tensor()\n",
    "        \n",
    "        for k in range(2*NUM_QUBITS):\n",
    "            shift_right = input_numbers.detach().clone()\n",
    "            shift_right[k] = shift_right[k] + SHIFT\n",
    "            shift_left = input_numbers.detach().clone()\n",
    "            shift_left[k] = shift_left[k] - SHIFT\n",
    "            \n",
    "#             print('shift_right = {}, shift_left = {}'.format(shift_right, shift_left))\n",
    "            \n",
    "            expectation_right = ctx.QiskitCirc.run(shift_right)\n",
    "            expectation_left  = ctx.QiskitCirc.run(shift_left)\n",
    "#             print('expectation_right = {}, \\nexpectation_left = {}'.format(expectation_right, expectation_left))\n",
    "            \n",
    "            gradient = torch.tensor([expectation_right]) - torch.tensor([expectation_left])\n",
    "            # rescale gradient\n",
    "#             gradient = gradient / torch.norm(gradient)\n",
    "#             print('gradient for k={}: {}'.format(k, gradient))\n",
    "            gradients = torch.cat((gradients, gradient.float()))\n",
    "            \n",
    "        result = torch.Tensor(gradients)\n",
    "#         print('gradients = {}'.format(result))\n",
    "#         print('grad_output = {}'.format(grad_output))\n",
    "\n",
    "        return (result.float() * grad_output.float()).T"
   ]
  },
  {
   "cell_type": "code",
   "execution_count": 11,
   "metadata": {
    "executionInfo": {
     "elapsed": 1229,
     "status": "ok",
     "timestamp": 1631199887929,
     "user": {
      "displayName": "Alessandro Sebastianelli",
      "photoUrl": "https://lh3.googleusercontent.com/a-/AOh14GgVWBLvEG9yF5gq_rkIyj5MCLQv1OzgwlLWxu7e=s64",
      "userId": "16665723407518839496"
     },
     "user_tz": -120
    },
    "id": "An1kDAd-0f1q"
   },
   "outputs": [],
   "source": [
    "from DatasetHandler import DatasetHandler\n",
    "dataset_root = 'EuroSAT_RGB'\n",
    "handler = DatasetHandler(dataset_root)"
   ]
  },
  {
   "cell_type": "code",
   "execution_count": 12,
   "metadata": {
    "colab": {
     "base_uri": "https://localhost:8080/"
    },
    "executionInfo": {
     "elapsed": 7,
     "status": "ok",
     "timestamp": 1631199887930,
     "user": {
      "displayName": "Alessandro Sebastianelli",
      "photoUrl": "https://lh3.googleusercontent.com/a-/AOh14GgVWBLvEG9yF5gq_rkIyj5MCLQv1OzgwlLWxu7e=s64",
      "userId": "16665723407518839496"
     },
     "user_tz": -120
    },
    "id": "YcZfoXab0hDP",
    "outputId": "0b66e390-f8f1-496d-e3d3-4917aa18ed21"
   },
   "outputs": [
    {
     "data": {
      "text/plain": [
       "['AnnualCrop',\n",
       " 'Forest',\n",
       " 'HerbaceousVegetation',\n",
       " 'Highway',\n",
       " 'Industrial',\n",
       " 'Pasture',\n",
       " 'PermanentCrop',\n",
       " 'Residential',\n",
       " 'River',\n",
       " 'SeaLake']"
      ]
     },
     "execution_count": 12,
     "metadata": {},
     "output_type": "execute_result"
    }
   ],
   "source": [
    "classes = []\n",
    "for i, c in enumerate(handler.classes):\n",
    "  cl = c.split('/')[-1]\n",
    "  classes.append(cl)\n",
    "classes.sort()\n",
    "classes"
   ]
  },
  {
   "cell_type": "code",
   "execution_count": 13,
   "metadata": {
    "colab": {
     "base_uri": "https://localhost:8080/"
    },
    "executionInfo": {
     "elapsed": 48645,
     "status": "ok",
     "timestamp": 1631199936570,
     "user": {
      "displayName": "Alessandro Sebastianelli",
      "photoUrl": "https://lh3.googleusercontent.com/a-/AOh14GgVWBLvEG9yF5gq_rkIyj5MCLQv1OzgwlLWxu7e=s64",
      "userId": "16665723407518839496"
     },
     "user_tz": -120
    },
    "id": "tTMKedxr0tCP",
    "outputId": "1344658f-b094-42b7-a103-3436285dd52d"
   },
   "outputs": [
    {
     "name": "stdout",
     "output_type": "stream",
     "text": [
      "Dataset images: 27000 Dataset labels: 27000\n",
      "Dataset sample -> EuroSAT_RGB/PermanentCrop/PermanentCrop_2135.jpg 6\n"
     ]
    }
   ],
   "source": [
    "imgs_path, imgs_label = handler.load_paths_labels(dataset_root, classes=classes)\n",
    "print('Dataset images:', len(imgs_path), 'Dataset labels:', len(imgs_label))\n",
    "print('Dataset sample ->', imgs_path[0], imgs_label[0])"
   ]
  },
  {
   "cell_type": "code",
   "execution_count": 14,
   "metadata": {
    "executionInfo": {
     "elapsed": 32,
     "status": "ok",
     "timestamp": 1631199936572,
     "user": {
      "displayName": "Alessandro Sebastianelli",
      "photoUrl": "https://lh3.googleusercontent.com/a-/AOh14GgVWBLvEG9yF5gq_rkIyj5MCLQv1OzgwlLWxu7e=s64",
      "userId": "16665723407518839496"
     },
     "user_tz": -120
    },
    "id": "HRB9LEFZLl-D"
   },
   "outputs": [],
   "source": [
    "new_labels = []\n",
    "for l in imgs_label:\n",
    "  if l==0 or l==1 or l==2 or l==5 or l==6:\n",
    "    new_labels.append(0)\n",
    "  elif l==3 or l==4 or l==7:\n",
    "    new_labels.append(1)\n",
    "  elif l==8 or l==9:\n",
    "    new_labels.append(2)"
   ]
  },
  {
   "cell_type": "code",
   "execution_count": 15,
   "metadata": {
    "executionInfo": {
     "elapsed": 28,
     "status": "ok",
     "timestamp": 1631199936572,
     "user": {
      "displayName": "Alessandro Sebastianelli",
      "photoUrl": "https://lh3.googleusercontent.com/a-/AOh14GgVWBLvEG9yF5gq_rkIyj5MCLQv1OzgwlLWxu7e=s64",
      "userId": "16665723407518839496"
     },
     "user_tz": -120
    },
    "id": "DMSIUWLaMGeD"
   },
   "outputs": [],
   "source": [
    "new_labels = np.array(new_labels)"
   ]
  },
  {
   "cell_type": "code",
   "execution_count": 16,
   "metadata": {
    "colab": {
     "base_uri": "https://localhost:8080/"
    },
    "executionInfo": {
     "elapsed": 27,
     "status": "ok",
     "timestamp": 1631199936573,
     "user": {
      "displayName": "Alessandro Sebastianelli",
      "photoUrl": "https://lh3.googleusercontent.com/a-/AOh14GgVWBLvEG9yF5gq_rkIyj5MCLQv1OzgwlLWxu7e=s64",
      "userId": "16665723407518839496"
     },
     "user_tz": -120
    },
    "id": "Ku3ztjPT0urb",
    "outputId": "774fe864-aeaf-4891-f87d-66d86047868c"
   },
   "outputs": [
    {
     "name": "stdout",
     "output_type": "stream",
     "text": [
      "X_train shape: (21600,) Y_train shape: (21600,)\n",
      "  X_val shape:  (5400,)   Y_val shape:  (5400,)\n"
     ]
    }
   ],
   "source": [
    "train_imgs, train_labels, val_images, val_labels = handler.train_validation_split(imgs_path, new_labels, split_factor=0.2)\n",
    "print('X_train shape:', train_imgs.shape, 'Y_train shape:', train_labels.shape)\n",
    "print('  X_val shape: ', val_images.shape, '  Y_val shape: ', val_labels.shape)"
   ]
  },
  {
   "cell_type": "code",
   "execution_count": 17,
   "metadata": {
    "executionInfo": {
     "elapsed": 23,
     "status": "ok",
     "timestamp": 1631199936574,
     "user": {
      "displayName": "Alessandro Sebastianelli",
      "photoUrl": "https://lh3.googleusercontent.com/a-/AOh14GgVWBLvEG9yF5gq_rkIyj5MCLQv1OzgwlLWxu7e=s64",
      "userId": "16665723407518839496"
     },
     "user_tz": -120
    },
    "id": "InesYmyx0wgc"
   },
   "outputs": [],
   "source": [
    "class Net(nn.Module):\n",
    "    def __init__(self):\n",
    "        super(Net, self).__init__()\n",
    "        self.conv1 = nn.Conv2d(3, 16, kernel_size=3)\n",
    "        self.conv2 = nn.Conv2d(16, 32, kernel_size=3)\n",
    "        self.conv3 = nn.Conv2d(32, 64, kernel_size=3)\n",
    "\n",
    "        #self.conv2_drop = nn.Dropout2d()\n",
    "\n",
    "        self.fc1 = nn.Linear(2304, 120)\n",
    "        self.fc2 = nn.Linear(120, 84)\n",
    "        self.fc3 = nn.Linear(84, 42)\n",
    "\n",
    "        self.fc4 = nn.Linear(2304, 2*NUM_QUBITS)\n",
    "        \n",
    "        self.qc = TorchCircuit.apply\n",
    "\n",
    "        self.fc5 = nn.Linear(16, 3)\n",
    "\n",
    "    def forward(self, x):\n",
    "        x = F.relu(F.max_pool2d(self.conv1(x), 2))\n",
    "        x = F.relu(F.max_pool2d(self.conv2(x), 2))\n",
    "        x = F.relu(F.max_pool2d(self.conv3(x), 2))\n",
    "\n",
    "        x = x.view(-1, 2304)\n",
    "        #x = F.relu(self.fc1(x))\n",
    "        #x = F.dropout(x, training=self.training)\n",
    "        #x = F.relu(self.fc2(x))\n",
    "\n",
    "        #x = F.relu(self.fc3(x))\n",
    "\n",
    "        x = self.fc4(x)\n",
    "        x = np.pi*torch.tanh(x)\n",
    "        \n",
    "        x = self.qc(x[0]) # QUANTUM LAYER\n",
    "        \n",
    "        x = F.relu(x)\n",
    "        #print('output of QC = {}'.format(x))\n",
    "        \n",
    "#         # softmax rather than sigmoid\n",
    "        x = self.fc5(x.float())\n",
    "        #print('output of Linear(1, 2): {}'.format(x))\n",
    "        x = F.softmax(x, 1)\n",
    "\n",
    "        #x = torch.sigmoid(x)\n",
    "        #x = torch.cat((x, 1-x), -1)\n",
    "        return x\n",
    "    \n",
    "    \n",
    "    def predict(self, x):\n",
    "        # apply softmax\n",
    "        pred = self.forward(x)\n",
    "#         print(pred)\n",
    "        ans = torch.argmax(pred[0]).item()\n",
    "        return torch.tensor(ans)\n",
    "    \n",
    "network = Net()#.to(device)\n",
    "optimizer = optim.Adam(network.parameters(), lr=0.0002)"
   ]
  },
  {
   "cell_type": "code",
   "execution_count": 18,
   "metadata": {
    "executionInfo": {
     "elapsed": 23,
     "status": "ok",
     "timestamp": 1631199936575,
     "user": {
      "displayName": "Alessandro Sebastianelli",
      "photoUrl": "https://lh3.googleusercontent.com/a-/AOh14GgVWBLvEG9yF5gq_rkIyj5MCLQv1OzgwlLWxu7e=s64",
      "userId": "16665723407518839496"
     },
     "user_tz": -120
    },
    "id": "8oMzCmz11PVo"
   },
   "outputs": [],
   "source": [
    "from sklearn.metrics import confusion_matrix, ConfusionMatrixDisplay, classification_report\n",
    "\n",
    "#from torchsummary import summary\n",
    "#summary(network, (3, 64, 64))"
   ]
  },
  {
   "cell_type": "code",
   "execution_count": 19,
   "metadata": {
    "executionInfo": {
     "elapsed": 20,
     "status": "ok",
     "timestamp": 1631199936575,
     "user": {
      "displayName": "Alessandro Sebastianelli",
      "photoUrl": "https://lh3.googleusercontent.com/a-/AOh14GgVWBLvEG9yF5gq_rkIyj5MCLQv1OzgwlLWxu7e=s64",
      "userId": "16665723407518839496"
     },
     "user_tz": -120
    },
    "id": "hxkBEGs401rE"
   },
   "outputs": [],
   "source": [
    "train_loader = iter(handler.qcnn_data_loader(train_imgs, train_labels, batch_size = 1, img_shape = (64,64,3)))\n",
    "test_loader = iter(handler.qcnn_data_loader(val_images, val_labels, batch_size = 1, img_shape = (64,64,3)))"
   ]
  },
  {
   "cell_type": "code",
   "execution_count": 22,
   "metadata": {
    "executionInfo": {
     "elapsed": 20,
     "status": "ok",
     "timestamp": 1631199936576,
     "user": {
      "displayName": "Alessandro Sebastianelli",
      "photoUrl": "https://lh3.googleusercontent.com/a-/AOh14GgVWBLvEG9yF5gq_rkIyj5MCLQv1OzgwlLWxu7e=s64",
      "userId": "16665723407518839496"
     },
     "user_tz": -120
    },
    "id": "IhLeUsW1_WpK"
   },
   "outputs": [],
   "source": [
    "checkpoint = torch.load('saved_models/model-real-amp-coarse.pt')\n",
    "network.load_state_dict(checkpoint['model_state_dict'])\n",
    "optimizer.load_state_dict(checkpoint['optimizer_state_dict'])\n",
    "epoch = checkpoint['epoch']\n",
    "loss = checkpoint['loss']"
   ]
  },
  {
   "cell_type": "code",
   "execution_count": null,
   "metadata": {
    "id": "nUoZidbl05zA"
   },
   "outputs": [
    {
     "name": "stdout",
     "output_type": "stream",
     "text": [
      " Epoch 0 ~ Batch 2046 (21599) ~ Loss 0.611691 \t\t"
     ]
    }
   ],
   "source": [
    "train_loss_list = []\n",
    "val_loss_list = []\n",
    "epochs = 25\n",
    "\n",
    "loss_func = nn.CrossEntropyLoss()\n",
    "\n",
    "for epoch in range(epochs):\n",
    "  train_loader = iter(handler.qcnn_data_loader(train_imgs, train_labels, batch_size = 1, img_shape = (64,64,3)))\n",
    "  test_loader = iter(handler.qcnn_data_loader(val_images, val_labels, batch_size = 1, img_shape = (64,64,3)))\n",
    "  total_loss = []\n",
    "  for batch_idx in range(len(train_labels)):\n",
    "    data, target = next(train_loader) \n",
    "    # print(batch_idx)\n",
    "    optimizer.zero_grad()        \n",
    "    # Forward pass\n",
    "    output = network(data)\n",
    "    # Calculating loss\n",
    "    loss = loss_func(output, target)\n",
    "    # Backward pass\n",
    "    loss.backward()\n",
    "    # Optimize the weights\n",
    "    optimizer.step()\n",
    "    \n",
    "    total_loss.append(loss.item())\n",
    "    \n",
    "    print('\\r Epoch %d ~ Batch %d (%d) ~ Loss %f ' % (epoch, batch_idx, len(train_imgs)-1, loss.item()), end='\\t\\t')\n",
    "    \n",
    "  \n",
    "  with torch.no_grad():\n",
    "    val_loss = []\n",
    "    targets = []\n",
    "    predictions = []\n",
    "    for batch_idx in range(len(val_images)):\n",
    "      data, target = next(test_loader)\n",
    "      output = network(data)\n",
    "      loss = loss_func(output, target)\n",
    "      val_loss.append(loss.item())\n",
    "      targets.append(target.item())\n",
    "      predictions.append(network.predict(data).item())\n",
    "   \n",
    "  train_loss_list.append(sum(total_loss)/len(total_loss))\n",
    "  val_loss_list.append(sum(val_loss)/len(val_loss))\n",
    "  \n",
    "  print('Training [{:.0f}%]\\t Training Loss: {:.4f} Validation Loss: {:.4f}'.format(\n",
    "      100. * (epoch + 1) / epochs, train_loss_list[-1], val_loss_list[-1]))\n",
    "  \n",
    "  if epoch % 3 == 1:\n",
    "    print(confusion_matrix(targets, predictions,normalize='true'))\n",
    "    print(classification_report(targets, predictions, target_names=['Vegetation','Buildings', 'Water Bodies'], digits=4))\n",
    "    torch.save({\n",
    "            'epoch': epoch,\n",
    "            'model_state_dict': network.state_dict(),\n",
    "            'optimizer_state_dict': optimizer.state_dict(),\n",
    "            'loss': train_loss_list[-1],\n",
    "            }, 'saved_models/model-real-amp-coarse.pt')\n",
    "    #torch.save(network.state_dict(), '/content/drive/MyDrive/QAI4EO/model-bell.pt')"
   ]
  },
  {
   "cell_type": "code",
   "execution_count": null,
   "metadata": {
    "id": "tyaee9pf1fxF"
   },
   "outputs": [],
   "source": [
    "fig, plt.plot(train_loss_list)\n",
    "plt.plot(val_loss_list)\n",
    "plt.title('Hybrid NN Training Convergence for {}-qubit'.format(NUM_QUBITS))\n",
    "plt.xlabel('Training Iterations')\n",
    "plt.ylabel('Cross Entropy Loss')\n",
    "plt.legend(['Training', 'Validation'])\n",
    "plt.show()"
   ]
  },
  {
   "cell_type": "markdown",
   "metadata": {
    "id": "dbr30h6AhcXF"
   },
   "source": [
    "# Save tests"
   ]
  },
  {
   "cell_type": "code",
   "execution_count": null,
   "metadata": {
    "executionInfo": {
     "elapsed": 19,
     "status": "ok",
     "timestamp": 1631199936576,
     "user": {
      "displayName": "Alessandro Sebastianelli",
      "photoUrl": "https://lh3.googleusercontent.com/a-/AOh14GgVWBLvEG9yF5gq_rkIyj5MCLQv1OzgwlLWxu7e=s64",
      "userId": "16665723407518839496"
     },
     "user_tz": -120
    },
    "id": "v-fZ61pEhxoP"
   },
   "outputs": [],
   "source": [
    "checkpoint = torch.load('/content/drive/MyDrive/QAI4EO/model-real-amp-coarse.pt')\n",
    "network.load_state_dict(checkpoint['model_state_dict'])\n",
    "optimizer.load_state_dict(checkpoint['optimizer_state_dict'])\n",
    "epoch = checkpoint['epoch']\n",
    "loss = checkpoint['loss']"
   ]
  },
  {
   "cell_type": "code",
   "execution_count": null,
   "metadata": {
    "executionInfo": {
     "elapsed": 19,
     "status": "ok",
     "timestamp": 1631199936577,
     "user": {
      "displayName": "Alessandro Sebastianelli",
      "photoUrl": "https://lh3.googleusercontent.com/a-/AOh14GgVWBLvEG9yF5gq_rkIyj5MCLQv1OzgwlLWxu7e=s64",
      "userId": "16665723407518839496"
     },
     "user_tz": -120
    },
    "id": "NdChaRfs9zCx"
   },
   "outputs": [],
   "source": [
    "test_loader = iter(handler.qcnn_data_loader(val_images, val_labels, batch_size = 1, img_shape = (64,64,3)))"
   ]
  },
  {
   "cell_type": "code",
   "execution_count": null,
   "metadata": {
    "colab": {
     "base_uri": "https://localhost:8080/"
    },
    "executionInfo": {
     "elapsed": 620229,
     "status": "ok",
     "timestamp": 1631201007720,
     "user": {
      "displayName": "Alessandro Sebastianelli",
      "photoUrl": "https://lh3.googleusercontent.com/a-/AOh14GgVWBLvEG9yF5gq_rkIyj5MCLQv1OzgwlLWxu7e=s64",
      "userId": "16665723407518839496"
     },
     "user_tz": -120
    },
    "id": "rX4_lz57hcFk",
    "outputId": "2a958686-a53a-42b4-b5d7-da519e611ff5"
   },
   "outputs": [],
   "source": [
    "batch_in = np.zeros((1, 3, 64, 64))\n",
    "\n",
    "with torch.no_grad():\n",
    "  targets = []\n",
    "  predictions = []\n",
    "  paths = []\n",
    "\n",
    "  for batch_idx in range(len(val_images)):\n",
    "    paths.append(val_images[batch_idx])\n",
    "    batch_in[0,...] = np.transpose(plt.imread(val_images[batch_idx])/255.0)\n",
    "\n",
    "    targets.append(val_labels[batch_idx])\n",
    "    \n",
    "    output = network.predict(torch.Tensor(batch_in)).item()\n",
    "    predictions.append(output)\n",
    "\n",
    "    print('\\r  IMG: %d of %d' % (batch_idx, len(val_images)), end='\\t\\t')\n",
    "    "
   ]
  },
  {
   "cell_type": "code",
   "execution_count": null,
   "metadata": {
    "executionInfo": {
     "elapsed": 6,
     "status": "ok",
     "timestamp": 1631201007722,
     "user": {
      "displayName": "Alessandro Sebastianelli",
      "photoUrl": "https://lh3.googleusercontent.com/a-/AOh14GgVWBLvEG9yF5gq_rkIyj5MCLQv1OzgwlLWxu7e=s64",
      "userId": "16665723407518839496"
     },
     "user_tz": -120
    },
    "id": "qKwnwP4Tl_ig"
   },
   "outputs": [],
   "source": [
    "original_path = []\n",
    "\n",
    "for path in paths:\n",
    "  if 'AnnualCrop' in path:\n",
    "    original_path.append(0)\n",
    "  elif 'Forest' in path:\n",
    "    original_path.append(1)\n",
    "  elif 'HerbaceousVegetation' in path:\n",
    "    original_path.append(2)\n",
    "  elif 'Highway' in path:\n",
    "    original_path.append(3)\n",
    "  elif 'Industrial' in path:\n",
    "    original_path.append(4)\n",
    "  elif 'Pasture' in path:\n",
    "    original_path.append(5)\n",
    "  elif 'PermanentCrop' in path:\n",
    "    original_path.append(6)\n",
    "  elif 'Residential' in path:\n",
    "    original_path.append(7)\n",
    "  elif 'River' in path:\n",
    "    original_path.append(8)\n",
    "  elif 'SeaLake' in path:\n",
    "    original_path.append(9)"
   ]
  },
  {
   "cell_type": "code",
   "execution_count": null,
   "metadata": {
    "executionInfo": {
     "elapsed": 247,
     "status": "ok",
     "timestamp": 1631201007965,
     "user": {
      "displayName": "Alessandro Sebastianelli",
      "photoUrl": "https://lh3.googleusercontent.com/a-/AOh14GgVWBLvEG9yF5gq_rkIyj5MCLQv1OzgwlLWxu7e=s64",
      "userId": "16665723407518839496"
     },
     "user_tz": -120
    },
    "id": "80wUo_YrlZ6m"
   },
   "outputs": [],
   "source": [
    "import pandas as pd\n",
    "\n",
    "data_dict = {'PATH': paths, 'TARGET': targets, 'FULLTARGET':original_path, 'PREDICTION':predictions}\n",
    "database = pd.DataFrame.from_dict(data_dict)"
   ]
  },
  {
   "cell_type": "code",
   "execution_count": null,
   "metadata": {
    "colab": {
     "base_uri": "https://localhost:8080/",
     "height": 206
    },
    "executionInfo": {
     "elapsed": 5,
     "status": "ok",
     "timestamp": 1631201007966,
     "user": {
      "displayName": "Alessandro Sebastianelli",
      "photoUrl": "https://lh3.googleusercontent.com/a-/AOh14GgVWBLvEG9yF5gq_rkIyj5MCLQv1OzgwlLWxu7e=s64",
      "userId": "16665723407518839496"
     },
     "user_tz": -120
    },
    "id": "8E5U_NP1lmkS",
    "outputId": "ceff4fde-d5c9-49ac-ac45-5bdcc973c8c4"
   },
   "outputs": [],
   "source": [
    "database.head()"
   ]
  },
  {
   "cell_type": "code",
   "execution_count": null,
   "metadata": {
    "executionInfo": {
     "elapsed": 402,
     "status": "ok",
     "timestamp": 1631201008367,
     "user": {
      "displayName": "Alessandro Sebastianelli",
      "photoUrl": "https://lh3.googleusercontent.com/a-/AOh14GgVWBLvEG9yF5gq_rkIyj5MCLQv1OzgwlLWxu7e=s64",
      "userId": "16665723407518839496"
     },
     "user_tz": -120
    },
    "id": "Yi3nQM9LmHF2"
   },
   "outputs": [],
   "source": [
    "database.to_csv('/content/drive/MyDrive/QAI4EO/coarse_classification.csv')"
   ]
  },
  {
   "cell_type": "code",
   "execution_count": null,
   "metadata": {
    "colab": {
     "base_uri": "https://localhost:8080/"
    },
    "executionInfo": {
     "elapsed": 3,
     "status": "ok",
     "timestamp": 1631201008368,
     "user": {
      "displayName": "Alessandro Sebastianelli",
      "photoUrl": "https://lh3.googleusercontent.com/a-/AOh14GgVWBLvEG9yF5gq_rkIyj5MCLQv1OzgwlLWxu7e=s64",
      "userId": "16665723407518839496"
     },
     "user_tz": -120
    },
    "id": "VdfYs4uum7GY",
    "outputId": "726387e1-29e8-4630-e5b4-25df7acf8edc"
   },
   "outputs": [],
   "source": [
    "print(confusion_matrix(targets, predictions,normalize='true'))\n",
    "print(classification_report(targets, predictions, target_names=['Vegetation','Buildings', 'Water Bodies'], digits=4))"
   ]
  },
  {
   "cell_type": "code",
   "execution_count": null,
   "metadata": {
    "id": "C6FE6AEJAs3d"
   },
   "outputs": [],
   "source": []
  }
 ],
 "metadata": {
  "colab": {
   "collapsed_sections": [],
   "name": "QCNN-RealAmplitudesCircuit-CoarseClasses.ipynb",
   "provenance": []
  },
  "kernelspec": {
   "display_name": "Python 3",
   "language": "python",
   "name": "python3"
  },
  "language_info": {
   "codemirror_mode": {
    "name": "ipython",
    "version": 3
   },
   "file_extension": ".py",
   "mimetype": "text/x-python",
   "name": "python",
   "nbconvert_exporter": "python",
   "pygments_lexer": "ipython3",
   "version": "3.7.6"
  }
 },
 "nbformat": 4,
 "nbformat_minor": 4
}
